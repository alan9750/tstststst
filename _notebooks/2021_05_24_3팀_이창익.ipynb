{
  "nbformat": 4,
  "nbformat_minor": 0,
  "metadata": {
    "colab": {
      "name": "2021-05-24-3팀-이창익.ipynb",
      "provenance": [],
      "collapsed_sections": [],
      "authorship_tag": "ABX9TyPnHa/gnMhl96ITqG/NlRQ/",
      "include_colab_link": true
    },
    "kernelspec": {
      "name": "python3",
      "display_name": "Python 3"
    },
    "language_info": {
      "name": "python"
    }
  },
  "cells": [
    {
      "cell_type": "markdown",
      "metadata": {
        "id": "view-in-github",
        "colab_type": "text"
      },
      "source": [
        "<a href=\"https://colab.research.google.com/github/alan9750/tstststst/blob/master/_notebooks/2021_05_24_3%ED%8C%80_%EC%9D%B4%EC%B0%BD%EC%9D%B5.ipynb\" target=\"_parent\"><img src=\"https://colab.research.google.com/assets/colab-badge.svg\" alt=\"Open In Colab\"/></a>"
      ]
    },
    {
      "cell_type": "code",
      "metadata": {
        "colab": {
          "base_uri": "https://localhost:8080/",
          "height": 35
        },
        "id": "FcWYcmihDNfH",
        "outputId": "a16f0bd9-a2d2-41ca-d55f-1e43e257cb27"
      },
      "source": [
        "'안녕하세요'"
      ],
      "execution_count": null,
      "outputs": [
        {
          "output_type": "execute_result",
          "data": {
            "application/vnd.google.colaboratory.intrinsic+json": {
              "type": "string"
            },
            "text/plain": [
              "'안녕하세요'"
            ]
          },
          "metadata": {
            "tags": []
          },
          "execution_count": 6
        }
      ]
    },
    {
      "cell_type": "code",
      "metadata": {
        "colab": {
          "base_uri": "https://localhost:8080/"
        },
        "id": "_hRJybj2CeCg",
        "outputId": "c56ee8d9-0059-40e1-b67f-e03c1d4ab76b"
      },
      "source": [
        "a=5\n",
        "b=3.14\n",
        "c='3.14'\n",
        "d=\"3.14\"\n",
        "e=-3.14\n",
        "f='abcd'+'가나다라'\n",
        "g='123'*3\n",
        "print(type(a),type(b),type(c),type(d),type(e),type(f),type(g))\n",
        "print(f)\n",
        "print(g)"
      ],
      "execution_count": null,
      "outputs": [
        {
          "output_type": "stream",
          "text": [
            "<class 'int'> <class 'float'> <class 'str'> <class 'str'> <class 'float'> <class 'str'> <class 'str'>\n",
            "abcd가나다라\n",
            "123123123\n"
          ],
          "name": "stdout"
        }
      ]
    },
    {
      "cell_type": "code",
      "metadata": {
        "colab": {
          "base_uri": "https://localhost:8080/",
          "height": 134
        },
        "id": "Wm2xLyWqGdGz",
        "outputId": "4de1d524-5922-4b3c-a67b-c2c3e9fe4cb6"
      },
      "source": [
        "1st = \"첫번째\"\n",
        "f**t= '첫번째'\n",
        "f^st = '첫번째'\n",
        "Temp = 1000\n",
        "print(temp)\n",
        "print = '출력합니다'\n",
        "pritn(print)"
      ],
      "execution_count": null,
      "outputs": [
        {
          "output_type": "error",
          "ename": "SyntaxError",
          "evalue": "ignored",
          "traceback": [
            "\u001b[0;36m  File \u001b[0;32m\"<ipython-input-3-04a9f17e2098>\"\u001b[0;36m, line \u001b[0;32m1\u001b[0m\n\u001b[0;31m    1st = \"첫번째\"\u001b[0m\n\u001b[0m      ^\u001b[0m\n\u001b[0;31mSyntaxError\u001b[0m\u001b[0;31m:\u001b[0m invalid syntax\n"
          ]
        }
      ]
    },
    {
      "cell_type": "code",
      "metadata": {
        "id": "kiROJqQSJtY-"
      },
      "source": [
        "temp1=100"
      ],
      "execution_count": null,
      "outputs": []
    },
    {
      "cell_type": "code",
      "metadata": {
        "id": "gJfaptE3EWVY"
      },
      "source": [
        "temp2=200"
      ],
      "execution_count": null,
      "outputs": []
    },
    {
      "cell_type": "code",
      "metadata": {
        "id": "gfni6qA3NgE9"
      },
      "source": [
        "temp3=temp1+temp2"
      ],
      "execution_count": null,
      "outputs": []
    },
    {
      "cell_type": "code",
      "metadata": {
        "colab": {
          "base_uri": "https://localhost:8080/"
        },
        "id": "kzWFSPGnNiJF",
        "outputId": "08d5ec4c-d458-43d4-913f-22c9cf4de296"
      },
      "source": [
        "temp3"
      ],
      "execution_count": null,
      "outputs": [
        {
          "output_type": "execute_result",
          "data": {
            "text/plain": [
              "300"
            ]
          },
          "metadata": {
            "tags": []
          },
          "execution_count": 54
        }
      ]
    },
    {
      "cell_type": "code",
      "metadata": {
        "colab": {
          "base_uri": "https://localhost:8080/"
        },
        "id": "bKmiYVeTNitL",
        "outputId": "f2f20186-2c62-4504-b06b-f4219a6c3795"
      },
      "source": [
        "print(\"hello world\")\n",
        "print(100+200)"
      ],
      "execution_count": null,
      "outputs": [
        {
          "output_type": "stream",
          "text": [
            "hello world\n",
            "300\n"
          ],
          "name": "stdout"
        }
      ]
    },
    {
      "cell_type": "code",
      "metadata": {
        "id": "QnLnvQAENr2j"
      },
      "source": [
        "list1 = [1,2,3,4,5,6,7,8,9,10]"
      ],
      "execution_count": null,
      "outputs": []
    },
    {
      "cell_type": "code",
      "metadata": {
        "colab": {
          "base_uri": "https://localhost:8080/"
        },
        "id": "twYBnwP3PXC0",
        "outputId": "2c2ba7c6-242b-42bd-8713-9f649c3d5cbd"
      },
      "source": [
        "print(list1)"
      ],
      "execution_count": null,
      "outputs": [
        {
          "output_type": "stream",
          "text": [
            "[1, 2, 3, 4, 5, 6, 7, 8, 9, 10]\n"
          ],
          "name": "stdout"
        }
      ]
    },
    {
      "cell_type": "code",
      "metadata": {
        "colab": {
          "base_uri": "https://localhost:8080/"
        },
        "id": "v_O295doPYto",
        "outputId": "7003f12e-bd1b-4015-e918-7f05a95dd184"
      },
      "source": [
        "len(list1)\n",
        "#문자열의 길이"
      ],
      "execution_count": null,
      "outputs": [
        {
          "output_type": "execute_result",
          "data": {
            "text/plain": [
              "10"
            ]
          },
          "metadata": {
            "tags": []
          },
          "execution_count": 7
        }
      ]
    },
    {
      "cell_type": "code",
      "metadata": {
        "colab": {
          "base_uri": "https://localhost:8080/"
        },
        "id": "f__Fr3ljPcZu",
        "outputId": "53fc7e55-14bb-417e-b2ca-b3711a8eb3ec"
      },
      "source": [
        "print(list1[0])\n",
        "#문자열의 첫번쨰 원소값"
      ],
      "execution_count": null,
      "outputs": [
        {
          "output_type": "stream",
          "text": [
            "1\n"
          ],
          "name": "stdout"
        }
      ]
    },
    {
      "cell_type": "code",
      "metadata": {
        "colab": {
          "base_uri": "https://localhost:8080/"
        },
        "id": "ZT1ymaQrPnsp",
        "outputId": "eef46d5f-1aa8-4b08-dde0-475bd6e89b2b"
      },
      "source": [
        "print(list1[-3])\n",
        "#문자열의 마지막에서 3번째 원소값"
      ],
      "execution_count": null,
      "outputs": [
        {
          "output_type": "stream",
          "text": [
            "8\n"
          ],
          "name": "stdout"
        }
      ]
    },
    {
      "cell_type": "code",
      "metadata": {
        "colab": {
          "base_uri": "https://localhost:8080/"
        },
        "id": "ZcunRcs1Pr95",
        "outputId": "96c6890f-877a-4ecc-e32c-f7d7ce656773"
      },
      "source": [
        "print(list1[2:6])\n",
        "#배열의 인덱스 2번부터 6번 앞까지의 데이터"
      ],
      "execution_count": null,
      "outputs": [
        {
          "output_type": "stream",
          "text": [
            "[3, 4, 5, 6]\n"
          ],
          "name": "stdout"
        }
      ]
    },
    {
      "cell_type": "code",
      "metadata": {
        "colab": {
          "base_uri": "https://localhost:8080/"
        },
        "id": "NRUOwWR9QcAx",
        "outputId": "5a1a2523-474b-4a4b-f637-18f27d63126c"
      },
      "source": [
        "print(list1[2:])\n",
        "#배열의 인덱스 2번부터 마지막까지의 데이터"
      ],
      "execution_count": null,
      "outputs": [
        {
          "output_type": "stream",
          "text": [
            "[3, 4, 5, 6, 7, 8, 9, 10]\n"
          ],
          "name": "stdout"
        }
      ]
    },
    {
      "cell_type": "code",
      "metadata": {
        "colab": {
          "base_uri": "https://localhost:8080/"
        },
        "id": "slCw7qLrQm3W",
        "outputId": "9790cca0-e3cb-4544-f429-d0ea5f61b92e"
      },
      "source": [
        "print(list1[:6])\n",
        "print(list1[:-1])"
      ],
      "execution_count": null,
      "outputs": [
        {
          "output_type": "stream",
          "text": [
            "[1, 2, 3, 4, 5, 6]\n",
            "[1, 2, 3, 4, 5, 6, 7, 8, 9]\n"
          ],
          "name": "stdout"
        }
      ]
    },
    {
      "cell_type": "code",
      "metadata": {
        "colab": {
          "base_uri": "https://localhost:8080/"
        },
        "id": "gA06ltPPRBoX",
        "outputId": "5400e9aa-dc49-48e8-d0fd-9f439c71d3ed"
      },
      "source": [
        "list_rg1 = list(range(11))\n",
        "list_rg2 = list(range(5,12))\n",
        "list_rg3 = list(range(-4,5,2)) ## 리스트 = list(range(시작,끝,증가폭))\n",
        "list_rg4 = list(range(20,-1,-1))\n",
        "list_rg5 = list('hello world')\n",
        "print(\"list_rg1은\", list_rg1)\n",
        "print(\"list_rg2은\", list_rg2)\n",
        "print(\"list_rg3은\", list_rg3)\n",
        "print(\"list_rg4은\", list_rg4)\n",
        "print(\"list_rg5은\", list_rg5)"
      ],
      "execution_count": null,
      "outputs": [
        {
          "output_type": "stream",
          "text": [
            "list_rg1은 [0, 1, 2, 3, 4, 5, 6, 7, 8, 9, 10]\n",
            "list_rg2은 [5, 6, 7, 8, 9, 10, 11]\n",
            "list_rg3은 [-4, -2, 0, 2, 4]\n",
            "list_rg4은 [20, 19, 18, 17, 16, 15, 14, 13, 12, 11, 10, 9, 8, 7, 6, 5, 4, 3, 2, 1, 0]\n",
            "list_rg5은 ['h', 'e', 'l', 'l', 'o', ' ', 'w', 'o', 'r', 'l', 'd']\n"
          ],
          "name": "stdout"
        }
      ]
    },
    {
      "cell_type": "code",
      "metadata": {
        "id": "aPx1kLvTRV2l"
      },
      "source": [
        "list_rg5[0] = 'H' ##리스트의 0번째 요소를 대문자 H로 변경"
      ],
      "execution_count": null,
      "outputs": []
    },
    {
      "cell_type": "code",
      "metadata": {
        "colab": {
          "base_uri": "https://localhost:8080/"
        },
        "id": "aSetLePuSgtD",
        "outputId": "ff885ffc-3566-4e45-b3a9-d7e8dee23af5"
      },
      "source": [
        "print(list_rg5)"
      ],
      "execution_count": null,
      "outputs": [
        {
          "output_type": "stream",
          "text": [
            "['H', 'e', 'l', 'l', 'o', ' ', 'w', 'o', 'r', 'l', 'd']\n"
          ],
          "name": "stdout"
        }
      ]
    },
    {
      "cell_type": "code",
      "metadata": {
        "colab": {
          "base_uri": "https://localhost:8080/"
        },
        "id": "gr8EqQA3Sri-",
        "outputId": "5a631817-2936-4c45-84fd-efb5fa95742c"
      },
      "source": [
        "del list_rg5[5] ##리스트의 5번 요소 삭제    리스트 : 0,1,2,3,4,5,6 (5번 요소 = 6번째)\n",
        "print(list_rg5)"
      ],
      "execution_count": null,
      "outputs": [
        {
          "output_type": "stream",
          "text": [
            "['H', 'e', 'l', 'l', 'o', 'w', 'o', 'r', 'l', 'd']\n"
          ],
          "name": "stdout"
        }
      ]
    },
    {
      "cell_type": "code",
      "metadata": {
        "colab": {
          "base_uri": "https://localhost:8080/"
        },
        "id": "Poxn6QFBSy4G",
        "outputId": "3c645268-badc-4022-8ade-6c613d314591"
      },
      "source": [
        "for i in range(0,3,1):\n",
        "    print(\"안녕하세요 for문을 공부 중입니다.\")"
      ],
      "execution_count": null,
      "outputs": [
        {
          "output_type": "stream",
          "text": [
            "안녕하세요 for문을 공부 중입니다.\n",
            "안녕하세요 for문을 공부 중입니다.\n",
            "안녕하세요 for문을 공부 중입니다.\n"
          ],
          "name": "stdout"
        }
      ]
    },
    {
      "cell_type": "code",
      "metadata": {
        "colab": {
          "base_uri": "https://localhost:8080/"
        },
        "id": "OuArisgrUIaR",
        "outputId": "7d394a21-a0e0-4235-b9e4-7b79b8a7c5a2"
      },
      "source": [
        "for x in range(5):\n",
        "    print(x)\n",
        "\n",
        "for y in range(2,4):\n",
        "    print(y)"
      ],
      "execution_count": null,
      "outputs": [
        {
          "output_type": "stream",
          "text": [
            "0\n",
            "1\n",
            "2\n",
            "3\n",
            "4\n",
            "2\n",
            "3\n"
          ],
          "name": "stdout"
        }
      ]
    },
    {
      "cell_type": "code",
      "metadata": {
        "colab": {
          "base_uri": "https://localhost:8080/",
          "height": 134
        },
        "id": "tW-Xv5hUUsqY",
        "outputId": "8548c878-c0f2-4b38-eb95-5a4767aa1336"
      },
      "source": [
        "list = [1:11]"
      ],
      "execution_count": null,
      "outputs": [
        {
          "output_type": "error",
          "ename": "SyntaxError",
          "evalue": "ignored",
          "traceback": [
            "\u001b[0;36m  File \u001b[0;32m\"<ipython-input-45-1ad0b422a5c5>\"\u001b[0;36m, line \u001b[0;32m1\u001b[0m\n\u001b[0;31m    list = [1:11]\u001b[0m\n\u001b[0m             ^\u001b[0m\n\u001b[0;31mSyntaxError\u001b[0m\u001b[0;31m:\u001b[0m invalid syntax\n"
          ]
        }
      ]
    },
    {
      "cell_type": "code",
      "metadata": {
        "colab": {
          "base_uri": "https://localhost:8080/"
        },
        "id": "T2AfogZJVj9G",
        "outputId": "7e655445-bb04-4387-90f1-0cf6f84ace45"
      },
      "source": [
        "test_sum = 0\n",
        "a=1\n",
        "b=11\n",
        "for x in range(a,b):\n",
        "    test_sum += x\n",
        "    print(\"x:\",x,\"sum:\",test_sum)"
      ],
      "execution_count": null,
      "outputs": [
        {
          "output_type": "stream",
          "text": [
            "x: 1 sum: 1\n",
            "x: 2 sum: 3\n",
            "x: 3 sum: 6\n",
            "x: 4 sum: 10\n",
            "x: 5 sum: 15\n",
            "x: 6 sum: 21\n",
            "x: 7 sum: 28\n",
            "x: 8 sum: 36\n",
            "x: 9 sum: 45\n",
            "x: 10 sum: 55\n"
          ],
          "name": "stdout"
        }
      ]
    },
    {
      "cell_type": "code",
      "metadata": {
        "colab": {
          "base_uri": "https://localhost:8080/"
        },
        "id": "u6beZJzSWWn1",
        "outputId": "f48c8505-92ee-4f17-b97f-9a68df990661"
      },
      "source": [
        "score = int (input(\"점수를 입력하세요 :\"))"
      ],
      "execution_count": null,
      "outputs": [
        {
          "output_type": "stream",
          "text": [
            "점수를 입력하세요 :90\n"
          ],
          "name": "stdout"
        }
      ]
    },
    {
      "cell_type": "code",
      "metadata": {
        "colab": {
          "base_uri": "https://localhost:8080/"
        },
        "id": "52lFJyHoaNV9",
        "outputId": "a106f369-0c25-4fcd-a0e8-26c3289a2a6c"
      },
      "source": [
        "import random\n",
        "for x in range(3):\n",
        "    test_num1 = random.randint(1,15)\n",
        "    if test_num1 > 10:\n",
        "        print(test_num1,'은 10보다 큽니다')\n",
        "    else:\n",
        "        print(test_num1,'은 10보다 작거나 같습니다')"
      ],
      "execution_count": null,
      "outputs": [
        {
          "output_type": "stream",
          "text": [
            "13 은 10보다 큽니다\n",
            "7 은 10보다 작거나 같습니다\n",
            "12 은 10보다 큽니다\n"
          ],
          "name": "stdout"
        }
      ]
    },
    {
      "cell_type": "code",
      "metadata": {
        "colab": {
          "base_uri": "https://localhost:8080/"
        },
        "id": "5FCtzKSSaXf5",
        "outputId": "1fcaa350-c91b-4cf1-bbad-88188a536390"
      },
      "source": [
        "import random\n",
        "list1 = ['민초','아봉','사빠딸','바닐라','뉴치케','그린티','이지현']\n",
        "test_num1 = random.randint(0,6)\n",
        "print(list1[test_num1])"
      ],
      "execution_count": null,
      "outputs": [
        {
          "output_type": "stream",
          "text": [
            "아봉\n"
          ],
          "name": "stdout"
        }
      ]
    },
    {
      "cell_type": "code",
      "metadata": {
        "colab": {
          "base_uri": "https://localhost:8080/"
        },
        "id": "9S15aAJWdnfR",
        "outputId": "3a374dbd-39a6-4115-de3a-5fffb84f0bec"
      },
      "source": [
        "random.randint(0,6)"
      ],
      "execution_count": null,
      "outputs": [
        {
          "output_type": "execute_result",
          "data": {
            "text/plain": [
              "6"
            ]
          },
          "metadata": {
            "tags": []
          },
          "execution_count": 56
        }
      ]
    },
    {
      "cell_type": "code",
      "metadata": {
        "colab": {
          "base_uri": "https://localhost:8080/"
        },
        "id": "e6hBmdVYdpU9",
        "outputId": "8a85678e-2cf3-4d43-e545-1b74380416b1"
      },
      "source": [
        "import random\n",
        "li = ['민초', '아봉', '사빠딸', '바닐라', '뉴치케', '그린티', '이지현']\n",
        "choicelist = random.choice(li)\n",
        "print(choicelist)\n"
      ],
      "execution_count": null,
      "outputs": [
        {
          "output_type": "stream",
          "text": [
            "뉴치케\n"
          ],
          "name": "stdout"
        }
      ]
    },
    {
      "cell_type": "code",
      "metadata": {
        "colab": {
          "base_uri": "https://localhost:8080/"
        },
        "id": "pASZIE4he12p",
        "outputId": "c9502357-51c7-4800-c46c-50ddb32d6616"
      },
      "source": [
        "import random\n",
        "list=['강다솔', '김보연', '남지인', '유승한', '윤혜선', '이예빈']\n",
        "x=random.randint(0, len(list)-1)\n",
        "print(list[x])\n"
      ],
      "execution_count": null,
      "outputs": [
        {
          "output_type": "stream",
          "text": [
            "김보연\n"
          ],
          "name": "stdout"
        }
      ]
    },
    {
      "cell_type": "code",
      "metadata": {
        "id": "kTAlWWnlhptB"
      },
      "source": [
        ""
      ],
      "execution_count": null,
      "outputs": []
    }
  ]
}